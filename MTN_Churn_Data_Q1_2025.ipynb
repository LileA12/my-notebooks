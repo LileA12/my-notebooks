{
  "cells": [
    {
      "cell_type": "markdown",
      "metadata": {
        "id": "vgenqTD2bRUG"
      },
      "source": [
        "# End to End Data Analysis: MTN Churn Data 2025"
      ]
    },
    {
      "cell_type": "code",
      "execution_count": 1,
      "metadata": {
        "id": "1M4z4VsDbJKO"
      },
      "outputs": [],
      "source": [
        "#Importing libraries\n",
        "import pandas as pd\n",
        "import numpy as np\n",
        "import matplotlib.pyplot as plt\n",
        "import seaborn as sns\n",
        "import scipy.stats as stats\n",
        "import statsmodels.api as sm\n",
        "from statsmodels.formula.api import ols\n",
        "from sklearn.model_selection import train_test_split\n",
        "from sklearn.ensemble import RandomForestClassifier\n",
        "from sklearn.metrics import classification_report"
      ]
    },
    {
      "cell_type": "code",
      "execution_count": 2,
      "metadata": {
        "colab": {
          "base_uri": "https://localhost:8080/"
        },
        "id": "JXkB896rbZKs",
        "outputId": "b1c9b8e1-6780-4273-ba9d-98bf95d675ed"
      },
      "outputs": [
        {
          "name": "stdout",
          "output_type": "stream",
          "text": [
            "MTN Customer Churn: (974, 17)\n"
          ]
        }
      ],
      "source": [
        "#Load data\n",
        "mtndata = pd.read_csv('mtn_customer_churn.csv')\n",
        "\n",
        "#To view the data structure\n",
        "print(\"MTN Customer Churn:\", mtndata.shape)"
      ]
    },
    {
      "cell_type": "markdown",
      "metadata": {
        "id": "DwAwRpGdcFx8"
      },
      "source": [
        "# Dataset Overview"
      ]
    },
    {
      "cell_type": "code",
      "execution_count": 3,
      "metadata": {
        "colab": {
          "base_uri": "https://localhost:8080/"
        },
        "id": "FBclhxw_cLyM",
        "outputId": "668c2227-52c7-4055-d3d0-b149e6d81a5d"
      },
      "outputs": [
        {
          "name": "stdout",
          "output_type": "stream",
          "text": [
            "\n",
            "MTN Customers Info\n",
            "<class 'pandas.core.frame.DataFrame'>\n",
            "RangeIndex: 974 entries, 0 to 973\n",
            "Data columns (total 17 columns):\n",
            " #   Column                     Non-Null Count  Dtype  \n",
            "---  ------                     --------------  -----  \n",
            " 0   Customer ID                974 non-null    object \n",
            " 1   Full Name                  974 non-null    object \n",
            " 2   Date of Purchase           974 non-null    object \n",
            " 3   Age                        974 non-null    int64  \n",
            " 4   State                      974 non-null    object \n",
            " 5   MTN Device                 974 non-null    object \n",
            " 6   Gender                     974 non-null    object \n",
            " 7   Satisfaction Rate          974 non-null    float64\n",
            " 8   Customer Review            974 non-null    object \n",
            " 9   Customer Tenure in months  974 non-null    int64  \n",
            " 10  Subscription Plan          974 non-null    object \n",
            " 11  Unit Price                 974 non-null    float64\n",
            " 12  Number of Times Purchased  974 non-null    int64  \n",
            " 13  Total Revenue              974 non-null    float64\n",
            " 14  Data Usage                 974 non-null    float64\n",
            " 15  Customer Churn Status      974 non-null    object \n",
            " 16  Reasons for Churn          284 non-null    object \n",
            "dtypes: float64(4), int64(3), object(10)\n",
            "memory usage: 129.5+ KB\n",
            "None\n"
          ]
        }
      ],
      "source": [
        "#MTN Customer data overview\n",
        "\n",
        "#To check for data types and missing value we use info()\n",
        "print(\"\\nMTN Customers Info\")\n",
        "print(mtndata.info())"
      ]
    },
    {
      "cell_type": "code",
      "execution_count": 4,
      "metadata": {
        "colab": {
          "base_uri": "https://localhost:8080/"
        },
        "id": "o6Vj01Hmckur",
        "outputId": "969bccbf-0b6c-4cbd-985b-477cb83c5fee"
      },
      "outputs": [
        {
          "name": "stdout",
          "output_type": "stream",
          "text": [
            "\n",
            "MTN Customers Summary:\n",
            "       Customer ID      Full Name Date of Purchase         Age State  \\\n",
            "count          974            974              974  974.000000   974   \n",
            "unique         496            484                3         NaN    35   \n",
            "top       CUST0003  Halima Walker       01/02/2025         NaN  Osun   \n",
            "freq             3              5              450         NaN    43   \n",
            "mean           NaN            NaN              NaN   48.043121   NaN   \n",
            "std            NaN            NaN              NaN   17.764307   NaN   \n",
            "min            NaN            NaN              NaN   16.000000   NaN   \n",
            "25%            NaN            NaN              NaN   32.000000   NaN   \n",
            "50%            NaN            NaN              NaN   49.000000   NaN   \n",
            "75%            NaN            NaN              NaN   63.750000   NaN   \n",
            "max            NaN            NaN              NaN   80.000000   NaN   \n",
            "\n",
            "             MTN Device  Gender  Satisfaction Rate Customer Review  \\\n",
            "count               974     974         974.000000             974   \n",
            "unique                4       2                NaN               5   \n",
            "top     Mobile SIM Card  Female                NaN       Very Good   \n",
            "freq                301     495                NaN             212   \n",
            "mean                NaN     NaN           2.947639             NaN   \n",
            "std                 NaN     NaN           1.384219             NaN   \n",
            "min                 NaN     NaN           1.000000             NaN   \n",
            "25%                 NaN     NaN           2.000000             NaN   \n",
            "50%                 NaN     NaN           3.000000             NaN   \n",
            "75%                 NaN     NaN           4.000000             NaN   \n",
            "max                 NaN     NaN           5.000000             NaN   \n",
            "\n",
            "        Customer Tenure in months            Subscription Plan     Unit Price  \\\n",
            "count                  974.000000                          974     974.000000   \n",
            "unique                        NaN                           21            NaN   \n",
            "top                           NaN  60GB Monthly Broadband Plan            NaN   \n",
            "freq                          NaN                           81            NaN   \n",
            "mean                    31.422998                          NaN   19196.663244   \n",
            "std                     17.191256                          NaN   25586.726985   \n",
            "min                      1.000000                          NaN     350.000000   \n",
            "25%                     17.000000                          NaN    5500.000000   \n",
            "50%                     31.000000                          NaN   14500.000000   \n",
            "75%                     47.000000                          NaN   24000.000000   \n",
            "max                     60.000000                          NaN  150000.000000   \n",
            "\n",
            "        Number of Times Purchased  Total Revenue  Data Usage  \\\n",
            "count                  974.000000   9.740000e+02  974.000000   \n",
            "unique                        NaN            NaN         NaN   \n",
            "top                           NaN            NaN         NaN   \n",
            "freq                          NaN            NaN         NaN   \n",
            "mean                    10.564682   2.046696e+05   99.304764   \n",
            "std                      5.709427   3.247855e+05   57.739511   \n",
            "min                      1.000000   3.500000e+02    0.820000   \n",
            "25%                      5.000000   3.300000e+04   47.637500   \n",
            "50%                     11.000000   1.080000e+05  103.330000   \n",
            "75%                     15.000000   2.610000e+05  149.697500   \n",
            "max                     20.000000   3.000000e+06  200.000000   \n",
            "\n",
            "       Customer Churn Status   Reasons for Churn  \n",
            "count                    974                 284  \n",
            "unique                     2                   7  \n",
            "top                       No  High Call Tarriffs  \n",
            "freq                     690                  54  \n",
            "mean                     NaN                 NaN  \n",
            "std                      NaN                 NaN  \n",
            "min                      NaN                 NaN  \n",
            "25%                      NaN                 NaN  \n",
            "50%                      NaN                 NaN  \n",
            "75%                      NaN                 NaN  \n",
            "max                      NaN                 NaN  \n"
          ]
        }
      ],
      "source": [
        "#Summary Statistics\n",
        "print(\"\\nMTN Customers Summary:\")\n",
        "print(mtndata.describe(include='all'))"
      ]
    },
    {
      "cell_type": "markdown",
      "metadata": {
        "id": "4RitBVZEc5fy"
      },
      "source": [
        "# Cleaning & Transformation"
      ]
    },
    {
      "cell_type": "code",
      "execution_count": 5,
      "metadata": {
        "colab": {
          "base_uri": "https://localhost:8080/"
        },
        "id": "f_JT170LfTh_",
        "outputId": "e156eb0e-fbc3-4b5d-8a47-88a1b8b22332"
      },
      "outputs": [
        {
          "name": "stdout",
          "output_type": "stream",
          "text": [
            "Unit Price                   0\n",
            "Total Revenue                0\n",
            "Age                          0\n",
            "Satisfaction Rate            0\n",
            "Customer Tenure in months    0\n",
            "Number of Times Purchased    0\n",
            "Data Usage                   0\n",
            "dtype: int64\n"
          ]
        }
      ],
      "source": [
        "# Convert to numeric, coercing errors to NaN\n",
        "numeric_cols = ['Unit Price', 'Total Revenue', 'Age', 'Satisfaction Rate',\n",
        "                'Customer Tenure in months', 'Number of Times Purchased', 'Data Usage']\n",
        "for col in numeric_cols:\n",
        "    mtndata[col] = pd.to_numeric(mtndata[col], errors='coerce')\n",
        "\n",
        "# Check for NaN values after conversion\n",
        "print(mtndata[numeric_cols].isna().sum())"
      ]
    },
    {
      "cell_type": "code",
      "execution_count": 6,
      "metadata": {
        "colab": {
          "base_uri": "https://localhost:8080/"
        },
        "id": "5G2mTweDfrBo",
        "outputId": "b2759b68-d62c-4e36-f21a-a824870f3e28"
      },
      "outputs": [
        {
          "name": "stdout",
          "output_type": "stream",
          "text": [
            "Number of duplicate Customer IDs: 805\n",
            "  Customer ID           MTN Device            Subscription Plan\n",
            "2    CUST0003  5G Broadband Router  150GB FUP Monthly Unlimited\n",
            "3    CUST0003      Mobile SIM Card       1GB+1.5mins Daily Plan\n",
            "4    CUST0003       Broadband MiFi  30GB Monthly Broadband Plan\n",
            "7    CUST0006      Mobile SIM Card             7GB Monthly Plan\n",
            "8    CUST0006  5G Broadband Router  1.5TB Yearly Broadband Plan\n"
          ]
        }
      ],
      "source": [
        "# Check for duplicates\n",
        "duplicates = mtndata[mtndata.duplicated(subset=['Customer ID'], keep=False)]\n",
        "print(f\"Number of duplicate Customer IDs: {len(duplicates)}\")\n",
        "print(duplicates[['Customer ID', 'MTN Device', 'Subscription Plan']].head())\n",
        "\n"
      ]
    },
    {
      "cell_type": "code",
      "execution_count": 11,
      "metadata": {
        "colab": {
          "base_uri": "https://localhost:8080/"
        },
        "id": "i8KIf282lZnh",
        "outputId": "fa94cc69-83b3-432e-ce1a-a3dfe459f2e8"
      },
      "outputs": [
        {
          "name": "stdout",
          "output_type": "stream",
          "text": [
            "Customer Churn Status  Churn Rate\n",
            "State                            \n",
            "Adamawa                 61.111111\n",
            "Imo                     51.724138\n",
            "Akwa Ibom               50.000000\n",
            "Kebbi                   48.275862\n",
            "Benue                   46.428571\n",
            "Niger                   42.307692\n",
            "Kwara                   41.176471\n",
            "Yobe                    38.235294\n",
            "Anambra                 37.931034\n",
            "Abuja (FCT)             35.714286\n",
            "Edo                     33.333333\n",
            "Gombe                   32.142857\n",
            "Jigawa                  32.142857\n",
            "Enugu                   31.250000\n",
            "Kano                    30.434783\n",
            "Oyo                     30.303030\n",
            "Cross River             29.032258\n",
            "Lagos                   28.571429\n",
            "Rivers                  27.272727\n",
            "Bayelsa                 25.000000\n",
            "Katsina                 24.137931\n",
            "Kogi                    23.529412\n",
            "Nasarawa                23.076923\n",
            "Abia                    22.857143\n",
            "Zamfara                 21.428571\n",
            "Ekiti                   21.212121\n",
            "Taraba                  20.833333\n",
            "Sokoto                  20.689655\n",
            "Bauchi                  20.000000\n",
            "Osun                    18.604651\n",
            "Kaduna                  17.647059\n",
            "Delta                   14.285714\n",
            "Borno                   13.157895\n",
            "Plateau                 11.111111\n",
            "Ondo                     5.882353\n"
          ]
        }
      ],
      "source": [
        "# Calculate churn rate by state\n",
        "churn_by_state = mtndata.groupby('State')['Customer Churn Status'].value_counts(normalize=True).unstack().fillna(0)\n",
        "churn_by_state['Churn Rate'] = churn_by_state['Yes'] * 100\n",
        "\n",
        "# Display top states by churn rate\n",
        "print(churn_by_state[['Churn Rate']].sort_values(by='Churn Rate', ascending=False))\n",
        "\n"
      ]
    },
    {
      "cell_type": "code",
      "execution_count": null,
      "metadata": {
        "colab": {
          "base_uri": "https://localhost:8080/"
        },
        "id": "ChmURId-l-Pa",
        "outputId": "1d84621d-7e3e-4e66-d0f1-f13f4d81f355"
      },
      "outputs": [
        {
          "name": "stdout",
          "output_type": "stream",
          "text": [
            "<class 'pandas.core.frame.DataFrame'>\n",
            "RangeIndex: 974 entries, 0 to 973\n",
            "Data columns (total 18 columns):\n",
            " #   Column                     Non-Null Count  Dtype  \n",
            "---  ------                     --------------  -----  \n",
            " 0   Customer ID                974 non-null    object \n",
            " 1   Full Name                  974 non-null    object \n",
            " 2   Date of Purchase           974 non-null    object \n",
            " 3   Age                        974 non-null    int64  \n",
            " 4   State                      974 non-null    object \n",
            " 5   MTN Device                 974 non-null    object \n",
            " 6   Gender                     974 non-null    object \n",
            " 7   Satisfaction Rate          974 non-null    float64\n",
            " 8   Customer Review            974 non-null    object \n",
            " 9   Customer Tenure in months  974 non-null    int64  \n",
            " 10  Subscription Plan          974 non-null    object \n",
            " 11  Unit Price                 974 non-null    float64\n",
            " 12  Number of Times Purchased  974 non-null    int64  \n",
            " 13  Total Revenue              974 non-null    float64\n",
            " 14  Data Usage                 974 non-null    float64\n",
            " 15  Customer Churn Status      974 non-null    object \n",
            " 16  Reasons for Churn          284 non-null    object \n",
            " 17  Churn Rate                 974 non-null    int64  \n",
            "dtypes: float64(4), int64(4), object(10)\n",
            "memory usage: 137.1+ KB\n",
            "None\n"
          ]
        }
      ],
      "source": [
        "# Add churn rate column to the original dataframe\n",
        "mtndata['Churn Rate'] = 0  # Initialize the column\n",
        "mtndata.loc[mtndata['Customer Churn Status'] == 'Yes', 'Churn Rate'] = 100\n",
        "mtndata.loc[mtndata['Customer Churn Status'] == 'No', 'Churn Rate'] = 0\n",
        "\n",
        "print(mtndata.info())\n"
      ]
    },
    {
      "cell_type": "code",
      "execution_count": 15,
      "metadata": {
        "colab": {
          "base_uri": "https://localhost:8080/"
        },
        "id": "bDdx2rZqmUxg",
        "outputId": "0b2ddad8-6889-4323-ef78-1423badc1915"
      },
      "outputs": [
        {
          "name": "stdout",
          "output_type": "stream",
          "text": [
            "<class 'pandas.core.frame.DataFrame'>\n",
            "RangeIndex: 974 entries, 0 to 973\n",
            "Data columns (total 18 columns):\n",
            " #   Column                     Non-Null Count  Dtype  \n",
            "---  ------                     --------------  -----  \n",
            " 0   Customer ID                974 non-null    object \n",
            " 1   Full Name                  974 non-null    object \n",
            " 2   Date of Purchase           974 non-null    object \n",
            " 3   Age                        974 non-null    int64  \n",
            " 4   State                      974 non-null    object \n",
            " 5   MTN Device                 974 non-null    object \n",
            " 6   Gender                     974 non-null    object \n",
            " 7   Satisfaction Rate          974 non-null    float64\n",
            " 8   Customer Review            974 non-null    object \n",
            " 9   Customer Tenure in months  974 non-null    int64  \n",
            " 10  Subscription Plan          974 non-null    object \n",
            " 11  Unit Price                 974 non-null    float64\n",
            " 12  Number of Times Purchased  974 non-null    int64  \n",
            " 13  Total Revenue              974 non-null    float64\n",
            " 14  Data Usage                 974 non-null    float64\n",
            " 15  Customer Churn Status      974 non-null    object \n",
            " 16  Reasons for Churn          974 non-null    object \n",
            " 17  Churn Rate                 974 non-null    int64  \n",
            "dtypes: float64(4), int64(4), object(10)\n",
            "memory usage: 137.1+ KB\n",
            "None\n"
          ]
        }
      ],
      "source": [
        "# Fill missing data in Reasons for Churn\n",
        "\n",
        "# Fill missing values in 'Reasons for Churn' with 'Unknown'\n",
        "mtndata['Reasons for Churn'].fillna('Unknown', inplace=True)\n",
        "\n",
        "print(mtndata.info())\n"
      ]
    },
    {
      "cell_type": "code",
      "execution_count": 16,
      "metadata": {
        "id": "ClvhgHPCmvIo"
      },
      "outputs": [],
      "source": [
        "# Save the DataFrame to a CSV file\n",
        "mtndata.to_csv('modified_mtn_data.csv', index=False)  # index=False prevents writing row indices\n"
      ]
    }
  ],
  "metadata": {
    "colab": {
      "provenance": []
    },
    "kernelspec": {
      "display_name": "Python 3",
      "name": "python3"
    },
    "language_info": {
      "name": "python"
    }
  },
  "nbformat": 4,
  "nbformat_minor": 0
}
